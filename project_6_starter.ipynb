{
 "cells": [
  {
   "cell_type": "markdown",
   "metadata": {},
   "source": [
    "# Project 6: Analyzing Stock Sentiment from Twits\n",
    "## Instructions\n",
    "Each problem consists of a function to implement and instructions on how to implement the function.  The parts of the function that need to be implemented are marked with a `# TODO` comment.\n",
    "\n",
    "## Packages\n",
    "When you implement the functions, you'll only need to you use the packages you've used in the classroom, like [Pandas](https://pandas.pydata.org/) and [Numpy](http://www.numpy.org/). These packages will be imported for you. We recommend you don't add any import statements, otherwise the grader might not be able to run your code.\n",
    "\n",
    "### Load Packages"
   ]
  },
  {
   "cell_type": "code",
   "execution_count": 1,
   "metadata": {},
   "outputs": [],
   "source": [
    "import json\n",
    "import nltk\n",
    "import os\n",
    "import random\n",
    "import re\n",
    "import torch\n",
    "\n",
    "from torch import nn, optim\n",
    "import torch.nn.functional as F"
   ]
  },
  {
   "cell_type": "markdown",
   "metadata": {},
   "source": [
    "## Introduction\n",
    "When deciding the value of a company, it's important to follow the news. For example, a product recall or natural disaster in a company's product chain. You want to be able to turn this information into a signal. Currently, the best tool for the job is a Neural Network. \n",
    "\n",
    "For this project, you'll use posts from the social media site [StockTwits](https://en.wikipedia.org/wiki/StockTwits). The community on StockTwits is full of investors, traders, and entrepreneurs. Each message posted is called a Twit. This is similar to Twitter's version of a post, called a Tweet. You'll build a model around these twits that generate a sentiment score.\n",
    "\n",
    "We've collected a bunch of twits, then hand labeled the sentiment of each. To capture the degree of sentiment, we'll use a five-point scale: very negative, negative, neutral, positive, very positive. Each twit is labeled -2 to 2 in steps of 1, from very negative to very positive respectively. You'll build a sentiment analysis model that will learn to assign sentiment to twits on its own, using this labeled data.\n",
    "\n",
    "The first thing we should to do, is load the data.\n",
    "\n",
    "## Import Twits \n",
    "### Load Twits Data \n",
    "This JSON file contains a list of objects for each twit in the `'data'` field:\n",
    "\n",
    "```\n",
    "{'data':\n",
    "  {'message_body': 'Neutral twit body text here',\n",
    "   'sentiment': 0},\n",
    "  {'message_body': 'Happy twit body text here',\n",
    "   'sentiment': 1},\n",
    "   ...\n",
    "}\n",
    "```\n",
    "\n",
    "The fields represent the following:\n",
    "\n",
    "* `'message_body'`: The text of the twit.\n",
    "* `'sentiment'`: Sentiment score for the twit, ranges from -2 to 2 in steps of 1, with 0 being neutral.\n",
    "\n",
    "\n",
    "To see what the data look like by printing the first 10 twits from the list. "
   ]
  },
  {
   "cell_type": "code",
   "execution_count": 2,
   "metadata": {},
   "outputs": [
    {
     "name": "stdout",
     "output_type": "stream",
     "text": [
      "[{'message_body': '$FITB great buy at 26.00...ill wait', 'sentiment': 2, 'timestamp': '2018-07-01T00:00:09Z'}, {'message_body': '@StockTwits $MSFT', 'sentiment': 1, 'timestamp': '2018-07-01T00:00:42Z'}, {'message_body': '#STAAnalystAlert for $TDG : Jefferies Maintains with a rating of Hold setting target price at USD 350.00. Our own verdict is Buy  http://www.stocktargetadvisor.com/toprating', 'sentiment': 2, 'timestamp': '2018-07-01T00:01:24Z'}, {'message_body': '$AMD I heard there’s a guy who knows someone who thinks somebody knows something - on StockTwits.', 'sentiment': 1, 'timestamp': '2018-07-01T00:01:47Z'}, {'message_body': '$AMD reveal yourself!', 'sentiment': 0, 'timestamp': '2018-07-01T00:02:13Z'}, {'message_body': '$AAPL Why the drop? I warren Buffet taking out his position?', 'sentiment': 1, 'timestamp': '2018-07-01T00:03:10Z'}, {'message_body': '$BA bears have 1 reason on 06-29 to pay more attention https://dividendbot.com?s=BA', 'sentiment': -2, 'timestamp': '2018-07-01T00:04:09Z'}, {'message_body': '$BAC ok good we&#39;re not dropping in price over the weekend, lol', 'sentiment': 1, 'timestamp': '2018-07-01T00:04:17Z'}, {'message_body': '$AMAT - Daily Chart, we need to get back to above 50.', 'sentiment': 2, 'timestamp': '2018-07-01T00:08:01Z'}, {'message_body': '$GME 3% drop per week after spike... if no news in 3 months, back to 12s... if BO, then bingo... what is the odds?', 'sentiment': -2, 'timestamp': '2018-07-01T00:09:03Z'}]\n"
     ]
    }
   ],
   "source": [
    "with open(os.path.join('..', '..', 'data', 'project_6_stocktwits', 'twits.json'), 'r') as f:\n",
    "    twits = json.load(f)\n",
    "\n",
    "print(twits['data'][:10])"
   ]
  },
  {
   "cell_type": "markdown",
   "metadata": {},
   "source": [
    "### Length of Data\n",
    "Now let's look at the number of twits in dataset. Print the number of twits below."
   ]
  },
  {
   "cell_type": "code",
   "execution_count": 3,
   "metadata": {},
   "outputs": [
    {
     "name": "stdout",
     "output_type": "stream",
     "text": [
      "1548010\n"
     ]
    }
   ],
   "source": [
    "\"\"\"print out the number of twits\"\"\"\n",
    "\n",
    "# TODO Implement \n",
    "print(len(twits['data']))\n"
   ]
  },
  {
   "cell_type": "markdown",
   "metadata": {},
   "source": [
    "### Split Message Body and Sentiment Score"
   ]
  },
  {
   "cell_type": "code",
   "execution_count": 4,
   "metadata": {},
   "outputs": [],
   "source": [
    "messages = [twit['message_body'] for twit in twits['data']]\n",
    "# Since the sentiment scores are discrete, we'll scale the sentiments to 0 to 4 for use in our network\n",
    "sentiments = [twit['sentiment'] + 2 for twit in twits['data']]"
   ]
  },
  {
   "cell_type": "markdown",
   "metadata": {},
   "source": [
    "## Preprocessing the Data\n",
    "With our data in hand we need to preprocess our text. These twits are collected by filtering on ticker symbols where these are denoted with a leader $ symbol in the twit itself. For example,\n",
    "\n",
    "`{'message_body': 'RT @google Our annual look at the year in Google blogging (and beyond) http://t.co/sptHOAh8 $GOOG',\n",
    " 'sentiment': 0}`\n",
    "\n",
    "The ticker symbols don't provide information on the sentiment, and they are in every twit, so we should remove them. This twit also has the `@google` username, again not providing sentiment information, so we should also remove it. We also see a URL `http://t.co/sptHOAh8`. Let's remove these too.\n",
    "\n",
    "The easiest way to remove specific words or phrases is with regex using the `re` module. You can sub out specific patterns with a space:\n",
    "\n",
    "```python\n",
    "re.sub(pattern, ' ', text)\n",
    "```\n",
    "This will substitute a space with anywhere the pattern matches in the text. Later when we tokenize the text, we'll split appropriately on those spaces."
   ]
  },
  {
   "cell_type": "code",
   "execution_count": 5,
   "metadata": {},
   "outputs": [],
   "source": [
    "#for i in range(10):\n",
    "#    text = messages[i]\n",
    "#    print('msg', i, ':', text)\n",
    "#    text = text.lower()\n",
    "#    text = re.sub(r'https?://[^\\s]+', ' ', text)\n",
    "#    text = re.sub(r'[$][A-Za-z][\\S]*', ' ', text)\n",
    "#    text = re.sub(r'[@][A-Za-z][\\S]*', ' ', text)\n",
    "#    text = re.sub('[^a-zA-Z]+', ' ', text)\n",
    "#    print('msg', i, ':', text)\n",
    "#    print('msg', i, ':', text.split())\n",
    "#    print('------')"
   ]
  },
  {
   "cell_type": "markdown",
   "metadata": {},
   "source": [
    "### Pre-Processing"
   ]
  },
  {
   "cell_type": "code",
   "execution_count": 6,
   "metadata": {},
   "outputs": [
    {
     "name": "stdout",
     "output_type": "stream",
     "text": [
      "[nltk_data] Downloading package wordnet to /root/nltk_data...\n",
      "[nltk_data]   Unzipping corpora/wordnet.zip.\n"
     ]
    }
   ],
   "source": [
    "nltk.download('wordnet')\n",
    "\n",
    "\n",
    "def preprocess(message):\n",
    "    \"\"\"\n",
    "    This function takes a string as input, then performs these operations: \n",
    "        - lowercase\n",
    "        - remove URLs\n",
    "        - remove ticker symbols \n",
    "        - removes punctuation\n",
    "        - tokenize by splitting the string on whitespace \n",
    "        - removes any single character tokens\n",
    "    \n",
    "    Parameters\n",
    "    ----------\n",
    "        message : The text message to be preprocessed.\n",
    "        \n",
    "    Returns\n",
    "    -------\n",
    "        tokens: The preprocessed text into tokens.\n",
    "    \"\"\" \n",
    "    #TODO: Implement \n",
    "    \n",
    "    # Lowercase the twit message\n",
    "    text = message.lower()\n",
    "    \n",
    "    # Replace URLs with a space in the message\n",
    "    text = re.sub(r'https?://[^\\s]+', ' ', text)\n",
    "    \n",
    "    # Replace ticker symbols with a space. The ticker symbols are any stock symbol that starts with $.\n",
    "    text = re.sub(r'[$][A-Za-z][\\S]*', ' ', text)\n",
    "    \n",
    "    # Replace StockTwits usernames with a space. The usernames are any word that starts with @.\n",
    "    text = re.sub(r'[@][A-Za-z][\\S]*', ' ', text)\n",
    "\n",
    "    # Replace everything not a letter with a space\n",
    "    text = re.sub('[^a-zA-Z]+', ' ', text)\n",
    "    \n",
    "    # Tokenize by splitting the string on whitespace into a list of words\n",
    "    tokens = text.split()\n",
    "\n",
    "    # Lemmatize words using the WordNetLemmatizer. You can ignore any word that is not longer than one character.\n",
    "    wnl = nltk.stem.WordNetLemmatizer()\n",
    "    tokens = [wnl.lemmatize(word) for word in tokens]\n",
    "\n",
    "    \n",
    "    assert type(tokens) == list, 'Tokens should be list'\n",
    "    return tokens"
   ]
  },
  {
   "cell_type": "markdown",
   "metadata": {},
   "source": [
    ">Note: You must ensure that after preprocessing the text should NOT include:\n",
    "- Numbers\n",
    "- URLs\n",
    "- Single character tokens\n",
    "- Ticker symbols (these should be removed even if they don't appear at the beginning)"
   ]
  },
  {
   "cell_type": "markdown",
   "metadata": {},
   "source": [
    "### Preprocess All the Twits \n",
    "Now we can preprocess each of the twits in our dataset. Apply the function `preprocess` to all the twit messages."
   ]
  },
  {
   "cell_type": "code",
   "execution_count": 7,
   "metadata": {},
   "outputs": [],
   "source": [
    "# TODO Implement\n",
    "\n",
    "tokenized = [preprocess(line) for line in messages]"
   ]
  },
  {
   "cell_type": "code",
   "execution_count": 8,
   "metadata": {},
   "outputs": [
    {
     "name": "stdout",
     "output_type": "stream",
     "text": [
      "$FITB great buy at 26.00...ill wait\n",
      "['great', 'buy', 'at', 'ill', 'wait']\n",
      "-------\n",
      "@StockTwits $MSFT\n",
      "[]\n",
      "-------\n",
      "#STAAnalystAlert for $TDG : Jefferies Maintains with a rating of Hold setting target price at USD 350.00. Our own verdict is Buy  http://www.stocktargetadvisor.com/toprating\n",
      "['staanalystalert', 'for', 'jefferies', 'maintains', 'with', 'a', 'rating', 'of', 'hold', 'setting', 'target', 'price', 'at', 'usd', 'our', 'own', 'verdict', 'is', 'buy']\n",
      "-------\n",
      "$AMD I heard there’s a guy who knows someone who thinks somebody knows something - on StockTwits.\n",
      "['i', 'heard', 'there', 's', 'a', 'guy', 'who', 'know', 'someone', 'who', 'think', 'somebody', 'know', 'something', 'on', 'stocktwits']\n",
      "-------\n",
      "1548010\n"
     ]
    }
   ],
   "source": [
    "for i in range(4):\n",
    "    print(messages[i])\n",
    "    print(tokenized[i])\n",
    "    print('-------')\n",
    "print(len(tokenized))"
   ]
  },
  {
   "cell_type": "markdown",
   "metadata": {},
   "source": [
    "### Bag of Words\n",
    "Now with all of our messages tokenized, we want to create a vocabulary and count up how often each word appears in our entire corpus. Use the [`Counter`](https://docs.python.org/3.1/library/collections.html#collections.Counter) function to count up all the tokens."
   ]
  },
  {
   "cell_type": "code",
   "execution_count": 9,
   "metadata": {},
   "outputs": [],
   "source": [
    "from collections import Counter\n",
    "\n",
    "\n",
    "\"\"\"\n",
    "Create a vocabulary by using Bag of words\n",
    "\"\"\"\n",
    "\n",
    "# TODO: Implement \n",
    "vocabularies = []\n",
    "for words in tokenized:\n",
    "    for word in words:\n",
    "        vocabularies.append(word)\n",
    "\n",
    "bow = Counter(vocabularies)"
   ]
  },
  {
   "cell_type": "code",
   "execution_count": 10,
   "metadata": {},
   "outputs": [
    {
     "data": {
      "text/plain": [
       "[('great', 17568),\n",
       " ('buy', 76321),\n",
       " ('at', 138455),\n",
       " ('ill', 882),\n",
       " ('wait', 11370)]"
      ]
     },
     "execution_count": 10,
     "metadata": {},
     "output_type": "execute_result"
    }
   ],
   "source": [
    "list(bow.items())[:5]"
   ]
  },
  {
   "cell_type": "markdown",
   "metadata": {},
   "source": [
    "### Frequency of Words Appearing in Message\n",
    "With our vocabulary, now we'll remove some of the most common words such as 'the', 'and', 'it', etc. These words don't contribute to identifying sentiment and are really common, resulting in a lot of noise in our input. If we can filter these out, then our network should have an easier time learning.\n",
    "\n",
    "We also want to remove really rare words that show up in a only a few twits. Here you'll want to divide the count of each word by the **number of messages** calculated in the code block above (i.e. `len(messages))`. Then remove words that only appear in some small fraction of the messages.\n",
    "\n",
    ">Note: There is not an exact number for low and high-frequency cut-offs, however there is a correct optimal range.\n",
    "You should ideally set up low-frequency cut-off from 0.0000002 to 0.000007 (inclusive) and high-frequency from 5 to 20 (inclusive). If the number is too big, we lose lots of important words that we can use in our data."
   ]
  },
  {
   "cell_type": "code",
   "execution_count": 11,
   "metadata": {},
   "outputs": [
    {
     "name": "stdout",
     "output_type": "stream",
     "text": [
      "[('the', 398778), ('to', 379505), ('a', 325404), ('is', 284879), ('for', 273543), ('on', 241665), ('of', 211334), ('and', 208492), ('in', 205321), ('this', 203562), ('s', 193532), ('it', 193504), ('i', 182940), ('at', 138455), ('will', 128199), ('up', 121581), ('are', 101426), ('you', 94290), ('that', 89668), ('be', 89278)]\n"
     ]
    },
    {
     "data": {
      "text/plain": [
       "18153"
      ]
     },
     "execution_count": 11,
     "metadata": {},
     "output_type": "execute_result"
    }
   ],
   "source": [
    "\"\"\"\n",
    "Set the following variables:\n",
    "    freqs\n",
    "    low_cutoff\n",
    "    high_cutoff\n",
    "    K_most_common\n",
    "\"\"\"\n",
    "\n",
    "# TODO Implement \n",
    "\n",
    "total_count = len(messages)\n",
    "\n",
    "# Dictionart that contains the Frequency of words appearing in messages.\n",
    "# The key is the token and the value is the frequency of that word in the corpus.\n",
    "freqs = {word: count/total_count for word, count in bow.items()}\n",
    "\n",
    "# Float that is the frequency cutoff. Drop words with a frequency that is lower or equal to this number.\n",
    "low_cutoff = 0.000007\n",
    "\n",
    "# Integer that is the cut off for most common words. Drop words that are the `high_cutoff` most common words.\n",
    "high_cutoff = 20\n",
    "\n",
    "# The k most common words in the corpus. Use `high_cutoff` as the k.\n",
    "K_most_common = bow.most_common(high_cutoff)\n",
    "\n",
    "filtered_words = [word for word in freqs if (freqs[word] > low_cutoff and word not in K_most_common)]\n",
    "print(K_most_common)\n",
    "len(filtered_words) "
   ]
  },
  {
   "cell_type": "code",
   "execution_count": 12,
   "metadata": {},
   "outputs": [
    {
     "name": "stdout",
     "output_type": "stream",
     "text": [
      "[('great', 0.011348763896874052), ('buy', 0.04930265308363641), ('at', 0.08944063668839349), ('ill', 0.0005697637612160128), ('wait', 0.007344913792546559), ('staanalystalert', 0.00263047396334649), ('for', 0.1767062228280179), ('jefferies', 0.0006821661358776752), ('maintains', 0.0005833295650544894), ('with', 0.04448227078636443)]\n",
      "98474\n",
      "['great', 'buy', 'at', 'ill', 'wait', 'staanalystalert', 'for', 'jefferies', 'maintains', 'with']\n",
      "18153\n"
     ]
    }
   ],
   "source": [
    "print(list(freqs.items())[:10])\n",
    "print(len(freqs))\n",
    "print(filtered_words[:10])\n",
    "print(len(filtered_words))"
   ]
  },
  {
   "cell_type": "markdown",
   "metadata": {},
   "source": [
    "### Updating Vocabulary by Removing Filtered Words\n",
    "Let's creat three variables that will help with our vocabulary."
   ]
  },
  {
   "cell_type": "code",
   "execution_count": 13,
   "metadata": {},
   "outputs": [],
   "source": [
    "\"\"\"\n",
    "Set the following variables:\n",
    "    vocab\n",
    "    id2vocab\n",
    "    filtered\n",
    "\"\"\"\n",
    "\n",
    "#TODO Implement\n",
    "\n",
    "# A dictionary for the `filtered_words`. The key is the word and value is an id that represents the word. \n",
    "vocab = {filtered_words[i]: i for i in range(len(filtered_words))}\n",
    "# Reverse of the `vocab` dictionary. The key is word id and value is the word. \n",
    "id2vocab = {i: filtered_words[i] for i in range(len(filtered_words))}\n",
    "# tokenized with the words not in `filtered_words` removed.\n",
    "filtered = []\n",
    "n = 0\n",
    "for words in tokenized:\n",
    "    filtered.append([word for word in words if word in filtered_words])\n",
    "\n",
    "assert set(vocab.keys()) == set(id2vocab.values()), 'Check vocab and id2vocab dictionaries'"
   ]
  },
  {
   "cell_type": "code",
   "execution_count": 14,
   "metadata": {},
   "outputs": [
    {
     "data": {
      "text/plain": [
       "[['great', 'buy', 'at', 'ill', 'wait'],\n",
       " [],\n",
       " ['staanalystalert',\n",
       "  'for',\n",
       "  'jefferies',\n",
       "  'maintains',\n",
       "  'with',\n",
       "  'a',\n",
       "  'rating',\n",
       "  'of',\n",
       "  'hold',\n",
       "  'setting',\n",
       "  'target',\n",
       "  'price',\n",
       "  'at',\n",
       "  'usd',\n",
       "  'our',\n",
       "  'own',\n",
       "  'verdict',\n",
       "  'is',\n",
       "  'buy']]"
      ]
     },
     "execution_count": 14,
     "metadata": {},
     "output_type": "execute_result"
    }
   ],
   "source": [
    "filtered[:3]"
   ]
  },
  {
   "cell_type": "markdown",
   "metadata": {},
   "source": [
    "### Balancing the classes\n",
    "Let's do a few last pre-processing steps. If we look at how our twits are labeled, we'll find that 50% of them are neutral. This means that our network will be 50% accurate just by guessing 0 every single time. To help our network learn appropriately, we'll want to balance our classes.\n",
    "That is, make sure each of our different sentiment scores show up roughly as frequently in the data.\n",
    "\n",
    "What we can do here is go through each of our examples and randomly drop twits with neutral sentiment. What should be the probability we drop these twits if we want to get around 20% neutral twits starting at 50% neutral? We should also take this opportunity to remove messages with length 0."
   ]
  },
  {
   "cell_type": "code",
   "execution_count": 15,
   "metadata": {},
   "outputs": [],
   "source": [
    "balanced = {'messages': [], 'sentiments':[]}\n",
    "\n",
    "n_neutral = sum(1 for each in sentiments if each == 2)\n",
    "N_examples = len(sentiments)\n",
    "keep_prob = (N_examples - n_neutral)/4/n_neutral\n",
    "\n",
    "for idx, sentiment in enumerate(sentiments):\n",
    "    message = filtered[idx]\n",
    "    if len(message) == 0:\n",
    "        # skip this message because it has length zero\n",
    "        continue\n",
    "    elif sentiment != 2 or random.random() < keep_prob:\n",
    "        balanced['messages'].append(message)\n",
    "        balanced['sentiments'].append(sentiment) "
   ]
  },
  {
   "cell_type": "markdown",
   "metadata": {},
   "source": [
    "If you did it correctly, you should see the following result "
   ]
  },
  {
   "cell_type": "code",
   "execution_count": 16,
   "metadata": {},
   "outputs": [
    {
     "data": {
      "text/plain": [
       "0.19450558725064973"
      ]
     },
     "execution_count": 16,
     "metadata": {},
     "output_type": "execute_result"
    }
   ],
   "source": [
    "n_neutral = sum(1 for each in balanced['sentiments'] if each == 2)\n",
    "N_examples = len(balanced['sentiments'])\n",
    "n_neutral/N_examples"
   ]
  },
  {
   "cell_type": "markdown",
   "metadata": {},
   "source": [
    "Finally let's convert our tokens into integer ids which we can pass to the network."
   ]
  },
  {
   "cell_type": "code",
   "execution_count": 17,
   "metadata": {},
   "outputs": [],
   "source": [
    "token_ids = [[vocab[word] for word in message] for message in balanced['messages']]\n",
    "sentiments = balanced['sentiments']"
   ]
  },
  {
   "cell_type": "markdown",
   "metadata": {},
   "source": [
    "## Neural Network\n",
    "Now we have our vocabulary which means we can transform our tokens into ids, which are then passed to our network. So, let's define the network now!\n",
    "\n",
    "Here is a nice diagram showing the network we'd like to build: \n",
    "\n",
    "#### Embed -> RNN -> Dense -> Softmax\n",
    "### Implement the text classifier\n",
    "Before we build text classifier, if you remember from the other network that you built in  \"Sentiment Analysis with an RNN\"  exercise  - which there, the network called \" SentimentRNN\", here we named it \"TextClassifer\" - consists of three main parts: 1) init function `__init__` 2) forward pass `forward`  3) hidden state `init_hidden`. \n",
    "\n",
    "This network is pretty similar to the network you built expect in the  `forward` pass, we use softmax instead of sigmoid. The reason we are not using sigmoid is that the output of NN is not a binary. In our network, sentiment scores have 5 possible outcomes. We are looking for an outcome with the highest probability thus softmax is a better choice."
   ]
  },
  {
   "cell_type": "code",
   "execution_count": 18,
   "metadata": {},
   "outputs": [
    {
     "name": "stdout",
     "output_type": "stream",
     "text": [
      "Training on GPU.\n"
     ]
    }
   ],
   "source": [
    "# First checking if GPU is available\n",
    "train_on_gpu=torch.cuda.is_available()\n",
    "\n",
    "if(train_on_gpu):\n",
    "    print('Training on GPU.')\n",
    "else:\n",
    "    print('No GPU available, training on CPU.')"
   ]
  },
  {
   "cell_type": "code",
   "execution_count": 19,
   "metadata": {},
   "outputs": [],
   "source": [
    "class TextClassifier(nn.Module):\n",
    "    def __init__(self, vocab_size, embed_size, lstm_size, output_size, lstm_layers=1, dropout=0.1):\n",
    "        \"\"\"\n",
    "        Initialize the model by setting up the layers.\n",
    "        \n",
    "        Parameters\n",
    "        ----------\n",
    "            vocab_size : The vocabulary size.\n",
    "            embed_size : The embedding layer size.\n",
    "            lstm_size : The LSTM layer size.\n",
    "            output_size : The output size.\n",
    "            lstm_layers : The number of LSTM layers.\n",
    "            dropout : The dropout probability.\n",
    "        \"\"\"\n",
    "        \n",
    "        super().__init__()\n",
    "        self.vocab_size = vocab_size\n",
    "        self.embed_size = embed_size\n",
    "        self.lstm_size = lstm_size\n",
    "        self.output_size = output_size\n",
    "        self.lstm_layers = lstm_layers\n",
    "        self.dropout = dropout\n",
    "        \n",
    "        # TODO Implement\n",
    "\n",
    "        # Setup embedding layer\n",
    "        self.embedding = nn.Embedding(vocab_size, embed_size)\n",
    "        \n",
    "        # Setup additional layers\n",
    "        self.lstm = nn.LSTM(embed_size, lstm_size, lstm_layers, dropout=dropout, batch_first=False)\n",
    "        self.dropout = nn.Dropout(dropout)\n",
    "        self.fc = nn.Linear(lstm_size, output_size)\n",
    "        self.soft = nn.LogSoftmax(dim=1)\n",
    "\n",
    "\n",
    "    def init_hidden(self, batch_size):\n",
    "        \"\"\" \n",
    "        Initializes hidden state\n",
    "        \n",
    "        Parameters\n",
    "        ----------\n",
    "            batch_size : The size of batches.\n",
    "        \n",
    "        Returns\n",
    "        -------\n",
    "            hidden_state\n",
    "            \n",
    "        \"\"\"\n",
    "        \n",
    "        # TODO Implement \n",
    "        \n",
    "        # Create two new tensors with sizes n_layers x batch_size x hidden_dim,\n",
    "        # initialized to zero, for hidden state and cell state of LSTM\n",
    "        \n",
    "        weight = next(self.parameters()).data\n",
    "\n",
    "        if (train_on_gpu):\n",
    "            hidden = (weight.new(self.lstm_layers, batch_size, self.lstm_size).zero_().cuda(),\n",
    "                      weight.new(self.lstm_layers, batch_size, self.lstm_size).zero_().cuda())\n",
    "        else:\n",
    "            hidden = (weight.new(self.lstm_layers, batch_size, self.lstm_size).zero_(),\n",
    "                      weight.new(self.lstm_layers, batch_size, self.lstm_size).zero_())\n",
    "\n",
    "        return hidden\n",
    "\n",
    "\n",
    "    def forward(self, nn_input, hidden_state):\n",
    "        \"\"\"\n",
    "        Perform a forward pass of our model on nn_input.\n",
    "        \n",
    "        Parameters\n",
    "        ----------\n",
    "            nn_input : The batch of input to the NN.\n",
    "            hidden_state : The LSTM hidden state.\n",
    "\n",
    "        Returns\n",
    "        -------\n",
    "            logps: log softmax output\n",
    "            hidden_state: The new hidden state.\n",
    "\n",
    "        \"\"\"\n",
    "        \n",
    "        # TODO Implement \n",
    "        batch_size = nn_input.size(0)\n",
    "\n",
    "        # embeddings and lstm_out\n",
    "        embeds = self.embedding(nn_input)\n",
    "        lstm_out, hidden_state = self.lstm(embeds, hidden_state)\n",
    "\n",
    "        # stack up lstm outputs\n",
    "        lstm_out = lstm_out.contiguous().view(-1, self.lstm_size)\n",
    "\n",
    "        # dropout and fully-connected layer\n",
    "        out = self.fc(lstm_out)\n",
    "        out = self.dropout(out)\n",
    "\n",
    "        # sigmoid function\n",
    "        sig_out = self.soft(out)\n",
    "\n",
    "        # reshape to be batch_size first\n",
    "        sig_out = sig_out.view(batch_size, -1, self.output_size)\n",
    "        sig_out = sig_out[-1] # get last batch of labels\n",
    "\n",
    "        # return last sigmoid output and hidden state\n",
    "        return sig_out, hidden_state"
   ]
  },
  {
   "cell_type": "markdown",
   "metadata": {},
   "source": [
    "### View Model"
   ]
  },
  {
   "cell_type": "code",
   "execution_count": 20,
   "metadata": {},
   "outputs": [
    {
     "name": "stdout",
     "output_type": "stream",
     "text": [
      "tensor([[-1.8328, -1.5276, -1.6559, -1.4224, -1.6559],\n",
      "        [-1.8115, -1.5203, -1.6884, -1.4167, -1.6575],\n",
      "        [-1.7617, -1.7915, -1.5743, -1.3881, -1.5856],\n",
      "        [-1.8086, -1.5069, -1.6744, -1.4451, -1.6536]], device='cuda:0')\n"
     ]
    }
   ],
   "source": [
    "model = TextClassifier(len(vocab), 10, 6, 5, dropout=0.1, lstm_layers=2)\n",
    "model.embedding.weight.data.uniform_(-1, 1)\n",
    "input = torch.randint(0, 1000, (5, 4), dtype=torch.int64)\n",
    "hidden = model.init_hidden(4)\n",
    "\n",
    "if train_on_gpu:\n",
    "    model = model.cuda()\n",
    "    input = input.cuda()\n",
    "\n",
    "logps, _ = model.forward(input, hidden)\n",
    "print(logps)"
   ]
  },
  {
   "cell_type": "markdown",
   "metadata": {},
   "source": [
    "## Training\n",
    "### DataLoaders and Batching\n",
    "Now we should build a generator that we can use to loop through our data. It'll be more efficient if we can pass our sequences in as batches. Our input tensors should look like `(sequence_length, batch_size)`. So if our sequences are 40 tokens long and we pass in 25 sequences, then we'd have an input size of `(40, 25)`.\n",
    "\n",
    "If we set our sequence length to 40, what do we do with messages that are more or less than 40 tokens? For messages with fewer than 40 tokens, we will pad the empty spots with zeros. We should be sure to **left** pad so that the RNN starts from nothing before going through the data. If the message has 20 tokens, then the first 20 spots of our 40 long sequence will be 0. If a message has more than 40 tokens, we'll just keep the first 40 tokens."
   ]
  },
  {
   "cell_type": "code",
   "execution_count": 21,
   "metadata": {},
   "outputs": [],
   "source": [
    "def dataloader(messages, labels, sequence_length=30, batch_size=32, shuffle=False):\n",
    "    \"\"\" \n",
    "    Build a dataloader.\n",
    "    \"\"\"\n",
    "    if shuffle:\n",
    "        indices = list(range(len(messages)))\n",
    "        random.shuffle(indices)\n",
    "        messages = [messages[idx] for idx in indices]\n",
    "        labels = [labels[idx] for idx in indices]\n",
    "\n",
    "    total_sequences = len(messages)\n",
    "\n",
    "    for ii in range(0, total_sequences, batch_size):\n",
    "        batch_messages = messages[ii: ii+batch_size]\n",
    "        \n",
    "        # First initialize a tensor of all zeros\n",
    "        batch = torch.zeros((sequence_length, len(batch_messages)), dtype=torch.int64)\n",
    "        for batch_num, tokens in enumerate(batch_messages):\n",
    "            token_tensor = torch.tensor(tokens)\n",
    "            # Left pad!\n",
    "            start_idx = max(sequence_length - len(token_tensor), 0)\n",
    "            batch[start_idx:, batch_num] = token_tensor[:sequence_length]\n",
    "        \n",
    "        label_tensor = torch.tensor(labels[ii: ii+len(batch_messages)])\n",
    "        \n",
    "        yield batch, label_tensor"
   ]
  },
  {
   "cell_type": "markdown",
   "metadata": {},
   "source": [
    "### Training and  Validation\n",
    "With our data in nice shape, we'll split it into training and validation sets."
   ]
  },
  {
   "cell_type": "code",
   "execution_count": 22,
   "metadata": {},
   "outputs": [
    {
     "data": {
      "text/plain": [
       "1030829"
      ]
     },
     "execution_count": 22,
     "metadata": {},
     "output_type": "execute_result"
    }
   ],
   "source": [
    "len(sentiments)"
   ]
  },
  {
   "cell_type": "code",
   "execution_count": 23,
   "metadata": {},
   "outputs": [],
   "source": [
    "\"\"\"\n",
    "Split data into training and validation datasets. Use an appropriate split size.\n",
    "The features are the `token_ids` and the labels are the `sentiments`.\n",
    "\"\"\"   \n",
    "\n",
    "# TODO Implement \n",
    "split_size = round(0.7 * len(token_ids))\n",
    "\n",
    "train_features = token_ids[:split_size]\n",
    "valid_features = token_ids[split_size:]\n",
    "train_labels = sentiments[:split_size]\n",
    "valid_labels = sentiments[split_size:]"
   ]
  },
  {
   "cell_type": "code",
   "execution_count": 24,
   "metadata": {},
   "outputs": [],
   "source": [
    "text_batch, labels = next(iter(dataloader(train_features, train_labels, sequence_length=20, batch_size=64)))\n",
    "model = TextClassifier(len(vocab)+1, 200, 128, 5, dropout=0.)\n",
    "\n",
    "if train_on_gpu:\n",
    "    model = model.cuda()\n",
    "    text_batch = text_batch.cuda()\n",
    "\n",
    "hidden = model.init_hidden(64)\n",
    "logps, hidden = model.forward(text_batch, hidden)"
   ]
  },
  {
   "cell_type": "markdown",
   "metadata": {},
   "source": [
    "### Training\n",
    "It's time to train the neural network!"
   ]
  },
  {
   "cell_type": "code",
   "execution_count": 25,
   "metadata": {},
   "outputs": [
    {
     "data": {
      "text/plain": [
       "TextClassifier(\n",
       "  (embedding): Embedding(18154, 1024)\n",
       "  (lstm): LSTM(1024, 512, num_layers=2, dropout=0.2)\n",
       "  (dropout): Dropout(p=0.2)\n",
       "  (fc): Linear(in_features=512, out_features=5, bias=True)\n",
       "  (soft): LogSoftmax()\n",
       ")"
      ]
     },
     "execution_count": 25,
     "metadata": {},
     "output_type": "execute_result"
    }
   ],
   "source": [
    "device = torch.device(\"cuda\" if torch.cuda.is_available() else \"cpu\")\n",
    "\n",
    "model = TextClassifier(len(vocab)+1, 1024, 512, 5, lstm_layers=2, dropout=0.2)\n",
    "model.embedding.weight.data.uniform_(-1, 1)\n",
    "model.to(device)"
   ]
  },
  {
   "cell_type": "code",
   "execution_count": 26,
   "metadata": {},
   "outputs": [
    {
     "name": "stdout",
     "output_type": "stream",
     "text": [
      "Starting epoch 1\n",
      "Epoch: 1/4... Step: 100... Loss: 1.178489... Val Loss: 1.179000 Val Accuracy: 0.517\n",
      "Epoch: 1/4... Step: 200... Loss: 1.125943... Val Loss: 1.085643 Val Accuracy: 0.553\n",
      "Epoch: 1/4... Step: 300... Loss: 0.872893... Val Loss: 1.010657 Val Accuracy: 0.607\n",
      "Epoch: 1/4... Step: 400... Loss: 0.725083... Val Loss: 0.964654 Val Accuracy: 0.626\n",
      "Epoch: 1/4... Step: 500... Loss: 1.124666... Val Loss: 0.919156 Val Accuracy: 0.640\n",
      "Epoch: 1/4... Step: 600... Loss: 0.936631... Val Loss: 0.905477 Val Accuracy: 0.650\n",
      "Epoch: 1/4... Step: 700... Loss: 1.080026... Val Loss: 0.887894 Val Accuracy: 0.661\n",
      "Epoch: 1/4... Step: 800... Loss: 0.851160... Val Loss: 0.871587 Val Accuracy: 0.659\n",
      "Epoch: 1/4... Step: 900... Loss: 1.057556... Val Loss: 0.850673 Val Accuracy: 0.676\n",
      "Epoch: 1/4... Step: 1000... Loss: 0.932696... Val Loss: 0.840885 Val Accuracy: 0.677\n",
      "Epoch: 1/4... Step: 1100... Loss: 0.741879... Val Loss: 0.823480 Val Accuracy: 0.683\n",
      "Epoch: 1/4... Step: 1200... Loss: 0.714557... Val Loss: 0.816457 Val Accuracy: 0.687\n",
      "Epoch: 1/4... Step: 1300... Loss: 0.778114... Val Loss: 0.806364 Val Accuracy: 0.691\n",
      "Epoch: 1/4... Step: 1400... Loss: 0.767334... Val Loss: 0.802248 Val Accuracy: 0.693\n",
      "Epoch: 1/4... Step: 1500... Loss: 0.956271... Val Loss: 0.791499 Val Accuracy: 0.695\n",
      "Epoch: 1/4... Step: 1600... Loss: 0.925380... Val Loss: 0.803947 Val Accuracy: 0.690\n",
      "Epoch: 1/4... Step: 1700... Loss: 0.906162... Val Loss: 0.786825 Val Accuracy: 0.697\n",
      "Epoch: 1/4... Step: 1800... Loss: 0.933106... Val Loss: 0.795088 Val Accuracy: 0.690\n",
      "Epoch: 1/4... Step: 1900... Loss: 0.864698... Val Loss: 0.796856 Val Accuracy: 0.693\n",
      "Epoch: 1/4... Step: 2000... Loss: 0.459329... Val Loss: 0.773679 Val Accuracy: 0.701\n",
      "Epoch: 1/4... Step: 2100... Loss: 0.890423... Val Loss: 0.768965 Val Accuracy: 0.704\n",
      "Epoch: 1/4... Step: 2200... Loss: 0.918146... Val Loss: 0.772573 Val Accuracy: 0.702\n",
      "Epoch: 1/4... Step: 2300... Loss: 0.774335... Val Loss: 0.767309 Val Accuracy: 0.702\n",
      "Epoch: 1/4... Step: 2400... Loss: 0.842729... Val Loss: 0.770480 Val Accuracy: 0.701\n",
      "Epoch: 1/4... Step: 2500... Loss: 0.786063... Val Loss: 0.758666 Val Accuracy: 0.709\n",
      "Epoch: 1/4... Step: 2600... Loss: 0.826638... Val Loss: 0.757838 Val Accuracy: 0.706\n",
      "Epoch: 1/4... Step: 2700... Loss: 0.912799... Val Loss: 0.765210 Val Accuracy: 0.704\n",
      "Epoch: 1/4... Step: 2800... Loss: 0.865678... Val Loss: 0.744871 Val Accuracy: 0.713\n",
      "Starting epoch 2\n",
      "Epoch: 2/4... Step: 100... Loss: 0.717428... Val Loss: 0.749751 Val Accuracy: 0.710\n",
      "Epoch: 2/4... Step: 200... Loss: 0.795813... Val Loss: 0.745011 Val Accuracy: 0.713\n",
      "Epoch: 2/4... Step: 300... Loss: 0.707976... Val Loss: 0.748762 Val Accuracy: 0.712\n",
      "Epoch: 2/4... Step: 400... Loss: 0.614890... Val Loss: 0.751089 Val Accuracy: 0.711\n",
      "Epoch: 2/4... Step: 500... Loss: 0.949569... Val Loss: 0.750056 Val Accuracy: 0.711\n",
      "Epoch: 2/4... Step: 600... Loss: 0.746484... Val Loss: 0.748564 Val Accuracy: 0.713\n",
      "Epoch: 2/4... Step: 700... Loss: 0.938770... Val Loss: 0.753079 Val Accuracy: 0.713\n",
      "Epoch: 2/4... Step: 800... Loss: 0.808480... Val Loss: 0.754408 Val Accuracy: 0.705\n",
      "Epoch: 2/4... Step: 900... Loss: 0.976783... Val Loss: 0.745484 Val Accuracy: 0.712\n",
      "Epoch: 2/4... Step: 1000... Loss: 0.957080... Val Loss: 0.744457 Val Accuracy: 0.714\n",
      "Epoch: 2/4... Step: 1100... Loss: 0.689138... Val Loss: 0.746258 Val Accuracy: 0.714\n",
      "Epoch: 2/4... Step: 1200... Loss: 0.613218... Val Loss: 0.745420 Val Accuracy: 0.714\n",
      "Epoch: 2/4... Step: 1300... Loss: 0.722811... Val Loss: 0.739515 Val Accuracy: 0.716\n",
      "Epoch: 2/4... Step: 1400... Loss: 0.728065... Val Loss: 0.737842 Val Accuracy: 0.716\n",
      "Epoch: 2/4... Step: 1500... Loss: 0.825410... Val Loss: 0.736467 Val Accuracy: 0.716\n",
      "Epoch: 2/4... Step: 1600... Loss: 0.831143... Val Loss: 0.748434 Val Accuracy: 0.713\n",
      "Epoch: 2/4... Step: 1700... Loss: 0.828445... Val Loss: 0.738562 Val Accuracy: 0.716\n",
      "Epoch: 2/4... Step: 1800... Loss: 0.819345... Val Loss: 0.755955 Val Accuracy: 0.711\n",
      "Epoch: 2/4... Step: 1900... Loss: 0.805918... Val Loss: 0.744769 Val Accuracy: 0.713\n",
      "Epoch: 2/4... Step: 2000... Loss: 0.382736... Val Loss: 0.739182 Val Accuracy: 0.715\n",
      "Epoch: 2/4... Step: 2100... Loss: 0.761689... Val Loss: 0.738028 Val Accuracy: 0.717\n",
      "Epoch: 2/4... Step: 2200... Loss: 0.862569... Val Loss: 0.738341 Val Accuracy: 0.715\n",
      "Epoch: 2/4... Step: 2300... Loss: 0.672698... Val Loss: 0.744620 Val Accuracy: 0.707\n",
      "Epoch: 2/4... Step: 2400... Loss: 0.748657... Val Loss: 0.743154 Val Accuracy: 0.711\n",
      "Epoch: 2/4... Step: 2500... Loss: 0.699503... Val Loss: 0.738651 Val Accuracy: 0.716\n",
      "Epoch: 2/4... Step: 2600... Loss: 0.722267... Val Loss: 0.733320 Val Accuracy: 0.717\n",
      "Epoch: 2/4... Step: 2700... Loss: 0.900251... Val Loss: 0.734918 Val Accuracy: 0.714\n",
      "Epoch: 2/4... Step: 2800... Loss: 0.790909... Val Loss: 0.725589 Val Accuracy: 0.719\n",
      "Starting epoch 3\n",
      "Epoch: 3/4... Step: 100... Loss: 0.664708... Val Loss: 0.728200 Val Accuracy: 0.720\n",
      "Epoch: 3/4... Step: 200... Loss: 0.717145... Val Loss: 0.731675 Val Accuracy: 0.719\n",
      "Epoch: 3/4... Step: 300... Loss: 0.631563... Val Loss: 0.733615 Val Accuracy: 0.716\n",
      "Epoch: 3/4... Step: 400... Loss: 0.566260... Val Loss: 0.736616 Val Accuracy: 0.717\n",
      "Epoch: 3/4... Step: 500... Loss: 0.819703... Val Loss: 0.737558 Val Accuracy: 0.717\n",
      "Epoch: 3/4... Step: 600... Loss: 0.609838... Val Loss: 0.741975 Val Accuracy: 0.716\n",
      "Epoch: 3/4... Step: 700... Loss: 0.906565... Val Loss: 0.738078 Val Accuracy: 0.717\n",
      "Epoch: 3/4... Step: 800... Loss: 0.705900... Val Loss: 0.744710 Val Accuracy: 0.713\n",
      "Epoch: 3/4... Step: 900... Loss: 0.901538... Val Loss: 0.738264 Val Accuracy: 0.716\n",
      "Epoch: 3/4... Step: 1000... Loss: 0.813582... Val Loss: 0.740434 Val Accuracy: 0.717\n",
      "Epoch: 3/4... Step: 1100... Loss: 0.601387... Val Loss: 0.742152 Val Accuracy: 0.718\n",
      "Epoch: 3/4... Step: 1200... Loss: 0.534165... Val Loss: 0.747594 Val Accuracy: 0.716\n",
      "Epoch: 3/4... Step: 1300... Loss: 0.646294... Val Loss: 0.738497 Val Accuracy: 0.719\n",
      "Epoch: 3/4... Step: 1400... Loss: 0.630650... Val Loss: 0.733695 Val Accuracy: 0.716\n",
      "Epoch: 3/4... Step: 1500... Loss: 0.788908... Val Loss: 0.733568 Val Accuracy: 0.717\n",
      "Epoch: 3/4... Step: 1600... Loss: 0.779316... Val Loss: 0.755155 Val Accuracy: 0.714\n",
      "Epoch: 3/4... Step: 1700... Loss: 0.816433... Val Loss: 0.741717 Val Accuracy: 0.717\n",
      "Epoch: 3/4... Step: 1800... Loss: 0.791666... Val Loss: 0.757157 Val Accuracy: 0.714\n",
      "Epoch: 3/4... Step: 1900... Loss: 0.760200... Val Loss: 0.747440 Val Accuracy: 0.713\n",
      "Epoch: 3/4... Step: 2000... Loss: 0.357065... Val Loss: 0.743853 Val Accuracy: 0.718\n",
      "Epoch: 3/4... Step: 2100... Loss: 0.720725... Val Loss: 0.746399 Val Accuracy: 0.717\n",
      "Epoch: 3/4... Step: 2200... Loss: 0.796485... Val Loss: 0.745894 Val Accuracy: 0.715\n",
      "Epoch: 3/4... Step: 2300... Loss: 0.612921... Val Loss: 0.749211 Val Accuracy: 0.712\n",
      "Epoch: 3/4... Step: 2400... Loss: 0.644549... Val Loss: 0.754002 Val Accuracy: 0.710\n",
      "Epoch: 3/4... Step: 2500... Loss: 0.653788... Val Loss: 0.742021 Val Accuracy: 0.718\n",
      "Epoch: 3/4... Step: 2600... Loss: 0.668325... Val Loss: 0.744698 Val Accuracy: 0.715\n",
      "Epoch: 3/4... Step: 2700... Loss: 0.796659... Val Loss: 0.735489 Val Accuracy: 0.716\n",
      "Epoch: 3/4... Step: 2800... Loss: 0.741685... Val Loss: 0.743033 Val Accuracy: 0.721\n",
      "Starting epoch 4\n",
      "Epoch: 4/4... Step: 100... Loss: 0.620719... Val Loss: 0.745331 Val Accuracy: 0.721\n",
      "Epoch: 4/4... Step: 200... Loss: 0.674818... Val Loss: 0.744239 Val Accuracy: 0.720\n",
      "Epoch: 4/4... Step: 300... Loss: 0.506273... Val Loss: 0.750639 Val Accuracy: 0.715\n",
      "Epoch: 4/4... Step: 400... Loss: 0.528947... Val Loss: 0.756326 Val Accuracy: 0.718\n",
      "Epoch: 4/4... Step: 500... Loss: 0.742154... Val Loss: 0.759345 Val Accuracy: 0.714\n",
      "Epoch: 4/4... Step: 600... Loss: 0.602429... Val Loss: 0.766598 Val Accuracy: 0.715\n",
      "Epoch: 4/4... Step: 700... Loss: 0.826511... Val Loss: 0.764429 Val Accuracy: 0.716\n",
      "Epoch: 4/4... Step: 800... Loss: 0.700227... Val Loss: 0.763619 Val Accuracy: 0.710\n",
      "Epoch: 4/4... Step: 900... Loss: 0.824308... Val Loss: 0.755396 Val Accuracy: 0.714\n",
      "Epoch: 4/4... Step: 1000... Loss: 0.846841... Val Loss: 0.764909 Val Accuracy: 0.716\n",
      "Epoch: 4/4... Step: 1100... Loss: 0.589191... Val Loss: 0.761529 Val Accuracy: 0.716\n",
      "Epoch: 4/4... Step: 1200... Loss: 0.540316... Val Loss: 0.777370 Val Accuracy: 0.715\n",
      "Epoch: 4/4... Step: 1300... Loss: 0.578941... Val Loss: 0.763848 Val Accuracy: 0.716\n"
     ]
    },
    {
     "name": "stdout",
     "output_type": "stream",
     "text": [
      "Epoch: 4/4... Step: 1400... Loss: 0.648604... Val Loss: 0.768771 Val Accuracy: 0.714\n",
      "Epoch: 4/4... Step: 1500... Loss: 0.704927... Val Loss: 0.765425 Val Accuracy: 0.714\n",
      "Epoch: 4/4... Step: 1600... Loss: 0.691407... Val Loss: 0.793196 Val Accuracy: 0.711\n",
      "Epoch: 4/4... Step: 1700... Loss: 0.775665... Val Loss: 0.772042 Val Accuracy: 0.714\n",
      "Epoch: 4/4... Step: 1800... Loss: 0.689932... Val Loss: 0.797547 Val Accuracy: 0.710\n",
      "Epoch: 4/4... Step: 1900... Loss: 0.763173... Val Loss: 0.778069 Val Accuracy: 0.712\n",
      "Epoch: 4/4... Step: 2000... Loss: 0.323299... Val Loss: 0.779612 Val Accuracy: 0.715\n",
      "Epoch: 4/4... Step: 2100... Loss: 0.701683... Val Loss: 0.782944 Val Accuracy: 0.714\n",
      "Epoch: 4/4... Step: 2200... Loss: 0.697966... Val Loss: 0.784590 Val Accuracy: 0.713\n",
      "Epoch: 4/4... Step: 2300... Loss: 0.568517... Val Loss: 0.789596 Val Accuracy: 0.710\n",
      "Epoch: 4/4... Step: 2400... Loss: 0.644830... Val Loss: 0.783356 Val Accuracy: 0.709\n",
      "Epoch: 4/4... Step: 2500... Loss: 0.642808... Val Loss: 0.782533 Val Accuracy: 0.712\n",
      "Epoch: 4/4... Step: 2600... Loss: 0.723259... Val Loss: 0.774002 Val Accuracy: 0.712\n",
      "Epoch: 4/4... Step: 2700... Loss: 0.727120... Val Loss: 0.772373 Val Accuracy: 0.714\n",
      "Epoch: 4/4... Step: 2800... Loss: 0.704970... Val Loss: 0.783512 Val Accuracy: 0.714\n"
     ]
    }
   ],
   "source": [
    "\"\"\"\n",
    "Train your model with dropout. Make sure to clip your gradients.\n",
    "Print the training loss, validation loss, and validation accuracy for every 100 steps.\n",
    "\"\"\"\n",
    "\n",
    "epochs = 4\n",
    "batch_size = 256\n",
    "learning_rate = 0.001\n",
    "\n",
    "print_every = 100\n",
    "#print_every = 1\n",
    "criterion = nn.NLLLoss()\n",
    "optimizer = optim.Adam(model.parameters(), lr=learning_rate)\n",
    "model.train()\n",
    "\n",
    "for epoch in range(epochs):\n",
    "    print('Starting epoch {}'.format(epoch + 1))\n",
    "    \n",
    "    steps = 0\n",
    "    \n",
    "    # =========FROM EXERCISE=========\n",
    "    # initialize hidden state\n",
    "    hidden = model.init_hidden(batch_size)\n",
    "    # =========FROM EXERCISE=========\n",
    "    \n",
    "    for text_batch, labels in dataloader(\n",
    "            train_features, train_labels, batch_size=batch_size, sequence_length=20):\n",
    "        steps += 1\n",
    "        hidden = tuple([each.data for each in hidden])\n",
    "                \n",
    "        # Set Device\n",
    "        text_batch, labels = text_batch.to(device), labels.to(device)\n",
    "        if text_batch.size() != torch.Size([20, batch_size]):\n",
    "            continue\n",
    "        for each in hidden:\n",
    "            each.to(device)\n",
    "        \n",
    "        # TODO Implement: Train Model\n",
    "        \n",
    "        # zero accumulated gradients\n",
    "        model.zero_grad()\n",
    "\n",
    "        # get the output from the model\n",
    "        output, hidden = model.forward(text_batch, hidden)\n",
    "\n",
    "        # calculate the loss and perform backprop\n",
    "        loss = criterion(output, labels)\n",
    "        loss.backward()\n",
    "        # `clip_grad_norm` helps prevent the exploding gradient problem in RNNs / LSTMs.\n",
    "        nn.utils.clip_grad_norm_(model.parameters(), 5)\n",
    "        optimizer.step()\n",
    "        \n",
    "        if steps % print_every == 0:\n",
    "            model.eval()\n",
    "            \n",
    "            # TODO Implement: Print metrics\n",
    "            \n",
    "            # Get validation loss\n",
    "            val_h = model.init_hidden(batch_size)\n",
    "            val_losses = []\n",
    "            val_accuracy = []\n",
    "            accuracy = 0\n",
    "            \n",
    "            with torch.no_grad():\n",
    "                for val_batch, val_labels in dataloader(valid_features, \n",
    "                        valid_labels, batch_size=batch_size, sequence_length=20):\n",
    "\n",
    "                    # Creating new variables for the hidden state, otherwise\n",
    "                    # we'd backprop through the entire training history\n",
    "                    \n",
    "                    #val_h = tuple([each.data for each in val_h])\n",
    "\n",
    "                    #if(train_on_gpu):\n",
    "                    #    inputs, labels = inputs.cuda(), labels.cuda()\n",
    "                    val_batch, val_labels = val_batch.to(device), val_labels.to(device)\n",
    "                    if val_batch.size() != torch.Size([20, batch_size]):\n",
    "                        continue\n",
    "                    for each in val_h:\n",
    "                        each.to(device)\n",
    "\n",
    "                    val_output, val_h = model.forward(val_batch, val_h)\n",
    "                    val_loss = criterion(val_output, val_labels)\n",
    "\n",
    "                    val_losses.append(val_loss.item())\n",
    "                    \n",
    "                    ps = torch.exp(val_output)\n",
    "                    top_p, top_class = ps.topk(1, dim=1)\n",
    "                    equals = top_class == val_labels.view(*top_class.shape)\n",
    "                    accuracy += torch.mean(equals.type(torch.FloatTensor))\n",
    "\n",
    "                model.train()\n",
    "                print(\"Epoch: {}/{}...\".format(epoch+1, epochs),\n",
    "                      \"Step: {}...\".format(steps),\n",
    "                      \"Loss: {:.6f}...\".format(loss.item()),\n",
    "                      \"Val Loss: {:.6f}\".format(sum(val_losses)/len(val_losses)),\n",
    "                      \"Val Accuracy: {:.3f}\".format(accuracy/len(val_losses)))"
   ]
  },
  {
   "cell_type": "code",
   "execution_count": 27,
   "metadata": {},
   "outputs": [],
   "source": [
    "torch.save(model.state_dict(), 'checkpoint.pth')"
   ]
  },
  {
   "cell_type": "markdown",
   "metadata": {},
   "source": [
    "## Making Predictions\n",
    "### Prediction \n",
    "Okay, now that you have a trained model, try it on some new twits and see if it works appropriately. Remember that for any new text, you'll need to preprocess it first before passing it to the network. Implement the `predict` function to generate the prediction vector from a message."
   ]
  },
  {
   "cell_type": "code",
   "execution_count": 43,
   "metadata": {},
   "outputs": [],
   "source": [
    "def predict(text, model, vocab):\n",
    "    \"\"\" \n",
    "    Make a prediction on a single sentence.\n",
    "\n",
    "    Parameters\n",
    "    ----------\n",
    "        text : The string to make a prediction on.\n",
    "        model : The model to use for making the prediction.\n",
    "        vocab : Dictionary for word to word ids. The key is the word and the value is the word id.\n",
    "\n",
    "    Returns\n",
    "    -------\n",
    "        pred : Prediction vector\n",
    "    \"\"\"    \n",
    "    \n",
    "    # TODO Implement\n",
    "    \n",
    "    tokens = preprocess(text)\n",
    "    \n",
    "    # Filter non-vocab words\n",
    "    #print('-----1')\n",
    "    tokens = [word for word in tokens if word in filtered_words]\n",
    "    #print('-----2')\n",
    "    # Convert words to ids\n",
    "    tokens =  [vocab[word] for word in tokens]\n",
    "    #print('-----3')\n",
    "        \n",
    "    # Adding a batch dimension\n",
    "    #print(torch.tensor(tokens))\n",
    "    #print(torch.tensor(tokens).unsqueeze(1))\n",
    "    text_input = torch.tensor(tokens).unsqueeze(1)\n",
    "    # Get the NN output\n",
    "    hidden = model.init_hidden(1)\n",
    "    #print(len(text_input))\n",
    "    #print(len(hidden))\n",
    "    #print(hidden)\n",
    "    logps, hidden = model.forward(text_input, hidden)\n",
    "    # Take the exponent of the NN output to get a range of 0 to 1 for each label.\n",
    "    pred = torch.exp(logps)\n",
    "    \n",
    "    return pred"
   ]
  },
  {
   "cell_type": "code",
   "execution_count": 44,
   "metadata": {},
   "outputs": [
    {
     "data": {
      "text/plain": [
       "tensor([[ 0.0003,  0.0134,  0.0087,  0.8882,  0.0894]])"
      ]
     },
     "execution_count": 44,
     "metadata": {},
     "output_type": "execute_result"
    }
   ],
   "source": [
    "text = \"Google is working on self driving cars, I'm bullish on $goog\"\n",
    "model.eval()\n",
    "model.to(\"cpu\")\n",
    "train_on_gpu = False\n",
    "predict(text, model, vocab)"
   ]
  },
  {
   "cell_type": "markdown",
   "metadata": {},
   "source": [
    "### Questions: What is the prediction of the model? What is the uncertainty of the prediction?\n",
    "** TODO: Answer Question**\n",
    "\n",
    "The output shows a 1x5 matrix, in which the components correspond to very negative, negative, neutral, positive, and very positive. The probable sentiment of this twit is \"positive\" with the rate at 88.82% and the second high is \"very positive\" (8.94%). The \"negative\" along with \"very negative\" is only 1.37%, which is less than 5% (2-sigma confidence level), showing that the model is very certain at its prediction. The prediction fits our feeling from the wordings."
   ]
  },
  {
   "cell_type": "markdown",
   "metadata": {},
   "source": [
    "Now we have a trained model and we can make predictions. We can use this model to track the sentiments of various stocks by predicting the sentiments of twits as they are coming in. Now we have a stream of twits. For each of those twits, pull out the stocks mentioned in them and keep track of the sentiments. Remember that in the twits, ticker symbols are encoded with a dollar sign as the first character, all caps, and 2-4 letters, like $AAPL. Ideally, you'd want to track the sentiments of the stocks in your universe and use this as a signal in your larger model(s).\n",
    "\n",
    "## Testing\n",
    "### Load the Data "
   ]
  },
  {
   "cell_type": "code",
   "execution_count": 45,
   "metadata": {},
   "outputs": [],
   "source": [
    "with open(os.path.join('..', '..', 'data', 'project_6_stocktwits', 'test_twits.json'), 'r') as f:\n",
    "    test_data = json.load(f)"
   ]
  },
  {
   "cell_type": "markdown",
   "metadata": {},
   "source": [
    "### Twit Stream"
   ]
  },
  {
   "cell_type": "code",
   "execution_count": 46,
   "metadata": {},
   "outputs": [
    {
     "data": {
      "text/plain": [
       "{'message_body': '$JWN has moved -1.69% on 10-31. Check out the movement and peers at  https://dividendbot.com?s=JWN',\n",
       " 'timestamp': '2018-11-01T00:00:05Z'}"
      ]
     },
     "execution_count": 46,
     "metadata": {},
     "output_type": "execute_result"
    }
   ],
   "source": [
    "def twit_stream():\n",
    "    for twit in test_data['data']:\n",
    "        yield twit\n",
    "\n",
    "next(twit_stream())"
   ]
  },
  {
   "cell_type": "markdown",
   "metadata": {},
   "source": [
    "Using the `prediction` function, let's apply it to a stream of twits."
   ]
  },
  {
   "cell_type": "code",
   "execution_count": 47,
   "metadata": {},
   "outputs": [],
   "source": [
    "def score_twits(stream, model, vocab, universe):\n",
    "    \"\"\" \n",
    "    Given a stream of twits and a universe of tickers, return sentiment scores for tickers in the universe.\n",
    "    \"\"\"\n",
    "    for twit in stream:\n",
    "\n",
    "        # Get the message text\n",
    "        text = twit['message_body']\n",
    "        symbols = re.findall('\\$[A-Z]{2,4}', text)\n",
    "        score = predict(text, model, vocab)\n",
    "\n",
    "        for symbol in symbols:\n",
    "            if symbol in universe:\n",
    "                yield {'symbol': symbol, 'score': score, 'timestamp': twit['timestamp']}"
   ]
  },
  {
   "cell_type": "code",
   "execution_count": 48,
   "metadata": {},
   "outputs": [
    {
     "data": {
      "text/plain": [
       "{'symbol': '$AAPL',\n",
       " 'score': tensor([[ 0.0732,  0.0955,  0.2575,  0.3149,  0.2589]]),\n",
       " 'timestamp': '2018-11-01T00:00:18Z'}"
      ]
     },
     "execution_count": 48,
     "metadata": {},
     "output_type": "execute_result"
    }
   ],
   "source": [
    "universe = {'$BBRY', '$AAPL', '$AMZN', '$BABA', '$YHOO', '$LQMT', '$FB', '$GOOG', '$BBBY', '$JNUG', '$SBUX', '$MU'}\n",
    "score_stream = score_twits(twit_stream(), model, vocab, universe)\n",
    "\n",
    "next(score_stream)"
   ]
  },
  {
   "cell_type": "markdown",
   "metadata": {},
   "source": [
    "That's it. You have successfully built a model for sentiment analysis! "
   ]
  },
  {
   "cell_type": "markdown",
   "metadata": {},
   "source": [
    "## Submission\n",
    "Now that you're done with the project, it's time to submit it. Click the submit button in the bottom right. One of our reviewers will give you feedback on your project with a pass or not passed grade. You can continue to the next section while you wait for feedback."
   ]
  }
 ],
 "metadata": {
  "kernelspec": {
   "display_name": "Python 3",
   "language": "python",
   "name": "python3"
  },
  "language_info": {
   "codemirror_mode": {
    "name": "ipython",
    "version": 3
   },
   "file_extension": ".py",
   "mimetype": "text/x-python",
   "name": "python",
   "nbconvert_exporter": "python",
   "pygments_lexer": "ipython3",
   "version": "3.6.3"
  }
 },
 "nbformat": 4,
 "nbformat_minor": 2
}
